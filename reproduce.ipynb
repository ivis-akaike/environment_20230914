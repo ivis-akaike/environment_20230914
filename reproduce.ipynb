{
 "cells": [
  {
   "cell_type": "code",
   "execution_count": null,
   "id": "a9ee5a5d",
   "metadata": {},
   "outputs": [],
   "source": [
    "# ! pip install panel\n",
    "import panel as pn\n",
    "\n",
    "# おまじない\n",
    "pn.extension()\n",
    "\n",
    "# インスタンス生成\n",
    "textinput = pn.widgets.TextInput(name= \"テキストインプット\", placeholder= \"ここに文字を入力してください。\")\n",
    "\n",
    "# 表示\n",
    "textinput"
   ]
  }
 ],
 "metadata": {
  "kernelspec": {
   "display_name": "Python 3 (ipykernel)",
   "language": "python",
   "name": "python3"
  },
  "language_info": {
   "codemirror_mode": {
    "name": "ipython",
    "version": 3
   },
   "file_extension": ".py",
   "mimetype": "text/x-python",
   "name": "python",
   "nbconvert_exporter": "python",
   "pygments_lexer": "ipython3",
   "version": "3.9.10"
  }
 },
 "nbformat": 4,
 "nbformat_minor": 5
}
